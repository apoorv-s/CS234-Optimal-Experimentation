{
 "cells": [
  {
   "cell_type": "code",
   "execution_count": 39,
   "id": "081d6323-94f0-4d66-8202-3f33ee9f08c4",
   "metadata": {},
   "outputs": [
    {
     "name": "stdout",
     "output_type": "stream",
     "text": [
      "The autoreload extension is already loaded. To reload it, use:\n",
      "  %reload_ext autoreload\n"
     ]
    }
   ],
   "source": [
    "%load_ext autoreload\n",
    "%autoreload 2"
   ]
  },
  {
   "cell_type": "code",
   "execution_count": 40,
   "id": "669d9aed-6e6c-4eeb-b212-6a0b97f4575a",
   "metadata": {},
   "outputs": [],
   "source": [
    "import numpy as np\n",
    "import matplotlib.pyplot as plt\n",
    "from clawpack import riemann, pyclaw"
   ]
  },
  {
   "cell_type": "code",
   "execution_count": 41,
   "id": "c7ea7551-7b2b-4a6e-ab05-ae497613cfaa",
   "metadata": {},
   "outputs": [],
   "source": [
    "from src.AdvectionEquation import Advection2D\n",
    "from configs.Adv2dConfig import Adv2dModelConfig"
   ]
  },
  {
   "cell_type": "code",
   "execution_count": 42,
   "id": "513283c1-59de-43c6-aae5-fedf87819f6d",
   "metadata": {},
   "outputs": [],
   "source": [
    "adv_config = Adv2dModelConfig()\n",
    "adv_obj = Advection2D(config=adv_config)"
   ]
  },
  {
   "cell_type": "code",
   "execution_count": 43,
   "id": "8d9438ca-1178-4a1d-b781-895a2e0879f0",
   "metadata": {},
   "outputs": [],
   "source": [
    "init_cond = adv_obj.initial_condition()"
   ]
  },
  {
   "cell_type": "code",
   "execution_count": 44,
   "id": "9e909aef-c2c0-482d-bd0c-9482c538547b",
   "metadata": {},
   "outputs": [],
   "source": [
    "results = adv_obj.step(init_cond)"
   ]
  },
  {
   "cell_type": "code",
   "execution_count": 51,
   "id": "ae7a8ab8-da30-4e4f-b97f-f1ac013563f8",
   "metadata": {},
   "outputs": [
    {
     "data": {
      "text/plain": [
       "<matplotlib.colorbar.Colorbar at 0x7fb7c48d0c40>"
      ]
     },
     "execution_count": 51,
     "metadata": {},
     "output_type": "execute_result"
    },
    {
     "data": {
      "image/png": "[encoded data removed]",
      "text/plain": [
       "<Figure size 640x480 with 2 Axes>"
      ]
     },
     "metadata": {},
     "output_type": "display_data"
    }
   ],
   "source": [
    "frame_id = 20\n",
    "plt.imshow(results[frame_id].q[0], origin='lower', extent=[0, 1, 0, 1])\n",
    "plt.colorbar()"
   ]
  },
  {
   "cell_type": "code",
   "execution_count": null,
   "id": "d6733cea-510a-4f82-b129-fe7170bcfcd9",
   "metadata": {},
   "outputs": [],
   "source": []
  },
  {
   "cell_type": "code",
   "execution_count": null,
   "id": "0f79c05f-7865-479b-844a-5a8013ec2f54",
   "metadata": {},
   "outputs": [],
   "source": []
  },
  {
   "cell_type": "code",
   "execution_count": null,
   "id": "5fd608b3-3f65-469e-8ac1-e90483b80909",
   "metadata": {},
   "outputs": [],
   "source": []
  },
  {
   "cell_type": "code",
   "execution_count": null,
   "id": "909e76bb-a1bd-41b5-9f8c-63da299e6100",
   "metadata": {},
   "outputs": [],
   "source": []
  },
  {
   "cell_type": "code",
   "execution_count": null,
   "id": "dbcd3982-8bcb-4706-a5f6-101f678337bb",
   "metadata": {},
   "outputs": [],
   "source": []
  },
  {
   "cell_type": "code",
   "execution_count": null,
   "id": "526e9d0e-7dec-4757-99f8-9bf9d9cc5215",
   "metadata": {},
   "outputs": [],
   "source": []
  },
  {
   "cell_type": "code",
   "execution_count": null,
   "id": "c27ee583-e781-4eb0-a802-91aa395d9754",
   "metadata": {},
   "outputs": [],
   "source": []
  },
  {
   "cell_type": "code",
   "execution_count": null,
   "id": "1b08784c-551d-476d-a08b-d221c3888583",
   "metadata": {},
   "outputs": [],
   "source": []
  },
  {
   "cell_type": "code",
   "execution_count": null,
   "id": "ea67fc89-cd54-424a-88be-b66a6b569870",
   "metadata": {},
   "outputs": [],
   "source": []
  },
  {
   "cell_type": "code",
   "execution_count": null,
   "id": "b923bbd8-6483-42eb-b0f5-c9a38297cefc",
   "metadata": {},
   "outputs": [],
   "source": []
  },
  {
   "cell_type": "code",
   "execution_count": null,
   "id": "d514161c-af52-4c00-a3b0-eb2825589240",
   "metadata": {},
   "outputs": [],
   "source": []
  },
  {
   "cell_type": "code",
   "execution_count": null,
   "id": "4153aebd-1be6-4b27-9587-259d2806f9b7",
   "metadata": {},
   "outputs": [],
   "source": []
  },
  {
   "cell_type": "code",
   "execution_count": null,
   "id": "352aa45b-856a-4b07-822a-496e3fec65a4",
   "metadata": {},
   "outputs": [],
   "source": []
  },
  {
   "cell_type": "code",
   "execution_count": null,
   "id": "c42c5a02-46ea-42aa-a04c-7b8ee7fb3460",
   "metadata": {},
   "outputs": [],
   "source": []
  },
  {
   "cell_type": "code",
   "execution_count": null,
   "id": "3d010d1c-8ad1-425b-8d93-91e88ee7eb38",
   "metadata": {},
   "outputs": [],
   "source": []
  },
  {
   "cell_type": "code",
   "execution_count": null,
   "id": "9e6312cd-8078-43b5-a787-bd40fcab48ab",
   "metadata": {},
   "outputs": [],
   "source": []
  }
 ],
 "metadata": {
  "kernelspec": {
   "display_name": "Python [conda env:cs234_a3]",
   "language": "python",
   "name": "conda-env-cs234_a3-py"
  },
  "language_info": {
   "codemirror_mode": {
    "name": "ipython",
    "version": 3
   },
   "file_extension": ".py",
   "mimetype": "text/x-python",
   "name": "python",
   "nbconvert_exporter": "python",
   "pygments_lexer": "ipython3",
   "version": "3.9.21"
  }
 },
 "nbformat": 4,
 "nbformat_minor": 5
}
