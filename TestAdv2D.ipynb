{
 "cells": [
  {
   "cell_type": "code",
   "execution_count": 1,
   "id": "081d6323-94f0-4d66-8202-3f33ee9f08c4",
   "metadata": {},
   "outputs": [],
   "source": [
    "%load_ext autoreload\n",
    "%autoreload 2"
   ]
  },
  {
   "cell_type": "code",
   "execution_count": 4,
   "id": "669d9aed-6e6c-4eeb-b212-6a0b97f4575a",
   "metadata": {},
   "outputs": [],
   "source": [
    "import numpy as np\n",
    "import matplotlib.pyplot as plt\n",
    "from clawpack import riemann, pyclaw\n",
    "\n",
    "from pde.AdvectionEquation import Adv2dModelConfig, Advection2D"
   ]
  },
  {
   "cell_type": "code",
   "execution_count": 5,
   "id": "513283c1-59de-43c6-aae5-fedf87819f6d",
   "metadata": {},
   "outputs": [],
   "source": [
    "adv_config = Adv2dModelConfig()\n",
    "adv_obj = Advection2D(config=adv_config)\n",
    "\n",
    "init_cond = adv_obj.initial_condition()\n",
    "results = adv_obj.step(init_cond)"
   ]
  },
  {
   "cell_type": "markdown",
   "id": "a259bf9e-0a66-43ee-a59b-3ad47b1aa928",
   "metadata": {},
   "source": [
    "## Plots"
   ]
  },
  {
   "cell_type": "code",
   "execution_count": 7,
   "id": "8d9438ca-1178-4a1d-b781-895a2e0879f0",
   "metadata": {},
   "outputs": [],
   "source": [
    "# frame_id = 20\n",
    "# plt.imshow(results[frame_id], origin='lower', extent=[0, 1, 0, 1])\n",
    "# plt.title(f\"Solution at t: {adv_obj.t_steps[frame_id]}\")\n",
    "# plt.colorbar()"
   ]
  },
  {
   "cell_type": "code",
   "execution_count": 9,
   "id": "ae7a8ab8-da30-4e4f-b97f-f1ac013563f8",
   "metadata": {},
   "outputs": [],
   "source": [
    "# fig, axes = plt.subplots(2, 2, figsize=(8, 8))\n",
    "# frame_ids = [0, 5, 10, 15]\n",
    "\n",
    "# for i, ax in enumerate(axes.flat):\n",
    "#     im = ax.imshow(results[frame_ids[i]], origin='lower', extent=[0, 1, 0, 1])\n",
    "#     ax.set_title(rf\"Solution at $t = {adv_obj.t_steps[frame_ids[i]]}$\", fontsize=12)\n",
    "#     cbar = plt.colorbar(im, ax=ax, fraction=0.046, pad=0.04)\n",
    "#     cbar.ax.tick_params(labelsize=10)\n",
    "    \n",
    "#     ax.set_xlabel(r'$x_1$', fontsize=12)\n",
    "#     ax.set_ylabel(r'$x_2$', fontsize=12)\n",
    "\n",
    "# plt.tight_layout(h_pad=-5.5)\n",
    "# # plt.savefig(\"AdvSol.pdf\", dpi=400)\n",
    "# plt.show()\n"
   ]
  },
  {
   "cell_type": "markdown",
   "id": "578cbddf-ca2d-4d28-a3ed-96fb2263431b",
   "metadata": {},
   "source": [
    "## DQN"
   ]
  },
  {
   "cell_type": "code",
   "execution_count": null,
   "id": "0f79c05f-7865-479b-844a-5a8013ec2f54",
   "metadata": {},
   "outputs": [],
   "source": []
  },
  {
   "cell_type": "code",
   "execution_count": null,
   "id": "173fac58-bd3c-44e5-9e73-bed2c0831e82",
   "metadata": {},
   "outputs": [],
   "source": []
  },
  {
   "cell_type": "code",
   "execution_count": null,
   "id": "b51bcf89-17eb-49e6-b0b1-1eff51d4c0de",
   "metadata": {},
   "outputs": [],
   "source": []
  },
  {
   "cell_type": "code",
   "execution_count": null,
   "id": "2cfa39b0-5808-4cdf-8a0d-36141b06a64c",
   "metadata": {},
   "outputs": [],
   "source": []
  },
  {
   "cell_type": "code",
   "execution_count": null,
   "id": "31767328-a014-4c82-8bae-c18c95b4e18e",
   "metadata": {},
   "outputs": [],
   "source": []
  },
  {
   "cell_type": "code",
   "execution_count": null,
   "id": "abac3ea7-afec-4f3a-9c70-bc8eb415cc63",
   "metadata": {},
   "outputs": [],
   "source": []
  },
  {
   "cell_type": "code",
   "execution_count": null,
   "id": "5fd608b3-3f65-469e-8ac1-e90483b80909",
   "metadata": {},
   "outputs": [],
   "source": [
    "\n",
    "print(f\"\\nCompleted {num_episodes} episodes using DQN policy.\")\n",
    "print(f\"Best reward overall: {max(best_rewards):.6f}\")\n",
    "print(f\"Average best reward per episode: {np.mean(best_rewards):.6f}\")\n",
    "\n",
    "# Plot distribution of best_rewards\n",
    "plt.figure(figsize=(8, 6))\n",
    "plt.hist(best_rewards, bins=20, color='skyblue', edgecolor='black', alpha=0.75)\n",
    "plt.xlabel('Episode Best Reward')\n",
    "plt.ylabel('Frequency')\n",
    "plt.title('Distribution of Episode Best Rewards')\n",
    "plt.grid(True)\n",
    "plt.show()\n",
    "\n",
    "# Compute sum of optimal_states over all episodes\n",
    "# Assumes that each info[\"optimal_states\"] is a numpy array of the same shape\n",
    "optimal_states_stack = np.array(optimal_states_all)\n",
    "mean_optimal_states = np.sum(optimal_states_stack, axis=0)\n",
    "\n",
    "# Plot grid of mean optimal_states\n",
    "plt.figure(figsize=(8, 6))\n",
    "plt.imshow(mean_optimal_states, cmap='viridis', interpolation='nearest')\n",
    "plt.title('Total placements in optimal States over Episodes')\n",
    "plt.colorbar(label='Total placements')\n",
    "plt.xlabel('Grid X')\n",
    "plt.ylabel('Grid Y')\n",
    "plt.show()\n",
    "\n"
   ]
  },
  {
   "cell_type": "code",
   "execution_count": null,
   "id": "909e76bb-a1bd-41b5-9f8c-63da299e6100",
   "metadata": {},
   "outputs": [],
   "source": []
  },
  {
   "cell_type": "code",
   "execution_count": null,
   "id": "dbcd3982-8bcb-4706-a5f6-101f678337bb",
   "metadata": {},
   "outputs": [],
   "source": []
  },
  {
   "cell_type": "code",
   "execution_count": null,
   "id": "526e9d0e-7dec-4757-99f8-9bf9d9cc5215",
   "metadata": {},
   "outputs": [],
   "source": []
  },
  {
   "cell_type": "code",
   "execution_count": null,
   "id": "c27ee583-e781-4eb0-a802-91aa395d9754",
   "metadata": {},
   "outputs": [],
   "source": []
  },
  {
   "cell_type": "code",
   "execution_count": null,
   "id": "1b08784c-551d-476d-a08b-d221c3888583",
   "metadata": {},
   "outputs": [],
   "source": []
  },
  {
   "cell_type": "code",
   "execution_count": null,
   "id": "ea67fc89-cd54-424a-88be-b66a6b569870",
   "metadata": {},
   "outputs": [],
   "source": []
  },
  {
   "cell_type": "code",
   "execution_count": null,
   "id": "b923bbd8-6483-42eb-b0f5-c9a38297cefc",
   "metadata": {},
   "outputs": [],
   "source": []
  },
  {
   "cell_type": "code",
   "execution_count": null,
   "id": "d514161c-af52-4c00-a3b0-eb2825589240",
   "metadata": {},
   "outputs": [],
   "source": []
  },
  {
   "cell_type": "code",
   "execution_count": null,
   "id": "4153aebd-1be6-4b27-9587-259d2806f9b7",
   "metadata": {},
   "outputs": [],
   "source": []
  },
  {
   "cell_type": "code",
   "execution_count": null,
   "id": "3fa036e3-f25e-464d-8fed-d4ad52540ced",
   "metadata": {},
   "outputs": [],
   "source": []
  },
  {
   "cell_type": "code",
   "execution_count": null,
   "id": "dde0e6b0-80a7-427b-b69e-25b8febd8d35",
   "metadata": {},
   "outputs": [],
   "source": []
  }
 ],
 "metadata": {
  "kernelspec": {
   "display_name": "Python [conda env:cs234_a3]",
   "language": "python",
   "name": "conda-env-cs234_a3-py"
  },
  "language_info": {
   "codemirror_mode": {
    "name": "ipython",
    "version": 3
   },
   "file_extension": ".py",
   "mimetype": "text/x-python",
   "name": "python",
   "nbconvert_exporter": "python",
   "pygments_lexer": "ipython3",
   "version": "3.9.21"
  }
 },
 "nbformat": 4,
 "nbformat_minor": 5
}
