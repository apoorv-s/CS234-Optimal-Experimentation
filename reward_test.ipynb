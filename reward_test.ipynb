{
  "cells": [
    {
      "cell_type": "code",
      "execution_count": 1,
      "id": "33abe035-280b-47ec-bf0b-30e90c74a702",
      "metadata": {
        "id": "33abe035-280b-47ec-bf0b-30e90c74a702",
        "outputId": "24b012f3-d8a2-48e4-d982-a9806d4af9b9",
        "colab": {
          "base_uri": "https://localhost:8080/"
        }
      },
      "outputs": [
        {
          "output_type": "stream",
          "name": "stdout",
          "text": [
            "hello\n"
          ]
        }
      ],
      "source": [
        "print(\"hello\")"
      ]
    },
    {
      "cell_type": "code",
      "execution_count": 2,
      "id": "14cad018-5b82-4a60-b6dc-54f566569530",
      "metadata": {
        "colab": {
          "base_uri": "https://localhost:8080/"
        },
        "id": "14cad018-5b82-4a60-b6dc-54f566569530",
        "outputId": "6587fecb-9bf8-4444-8b92-7bbb053c2d81"
      },
      "outputs": [
        {
          "output_type": "stream",
          "name": "stdout",
          "text": [
            "Requirement already satisfied: clawpack in /usr/local/lib/python3.11/dist-packages (5.11.0)\n"
          ]
        }
      ],
      "source": [
        "pip install clawpack"
      ]
    },
    {
      "cell_type": "code",
      "source": [
        "import numpy as np\n",
        "import matplotlib.pyplot as plt\n",
        "from clawpack import riemann, pyclaw\n",
        "import sys\n",
        "import os\n",
        "from google.colab import drive\n",
        "\n",
        "# Mount Google Drive if you haven't already\n",
        "drive.mount('/content/drive')\n",
        "\n",
        "# Assuming your project is in Google Drive\n",
        "# Adjust this path to point to your project's root directory\n",
        "project_path = '/content/drive/MyDrive/cs234_project'  # Change this to your actual path\n",
        "sys.path.append(project_path)"
      ],
      "metadata": {
        "colab": {
          "base_uri": "https://localhost:8080/"
        },
        "id": "ektEsehSw_dc",
        "outputId": "bcd20d1a-ae8c-4763-e03f-7f6c03d2fa03"
      },
      "id": "ektEsehSw_dc",
      "execution_count": 3,
      "outputs": [
        {
          "output_type": "stream",
          "name": "stdout",
          "text": [
            "Drive already mounted at /content/drive; to attempt to forcibly remount, call drive.mount(\"/content/drive\", force_remount=True).\n"
          ]
        }
      ]
    },
    {
      "cell_type": "markdown",
      "id": "2052d327-bd43-42cf-b63f-7617d09b6b99",
      "metadata": {
        "id": "2052d327-bd43-42cf-b63f-7617d09b6b99"
      },
      "source": [
        "## 1. Mathematical Definition of the PDE\n",
        "\n",
        "The 2D advection equation describes the transport of a scalar quantity $q(x,y,t)$ by a velocity field $(u_x, u_y)$:\n",
        "\n",
        "$$\\frac{\\partial q}{\\partial t} + u_x \\frac{\\partial q}{\\partial x} + u_y \\frac{\\partial q}{\\partial y} = 0$$\n",
        "\n",
        "Our specific parameters are:\n",
        "- $u_x = 0.5$ (x-velocity)\n",
        "- $u_y = 1.0$ (y-velocity)\n",
        "- Domain: $\\Omega = [0,1] \\times [0,1]$\n",
        "- Boundary conditions: Periodic in both x and y directions\n",
        "- Initial condition: A square pulse with $q = 1.0$ in $[0.1,0.6] \\times [0.1,0.6]$ and $q = 0.1$ elsewhere\n",
        "- Grid: $50 \\times 50$ points\n",
        "- Time domain: $t \\in [0, 2.0]$\n",
        "- Number of time steps: 20\n",
        "\n",
        "## 2. Solution Representation\n",
        "\n",
        "### 3.1 Numerical Solution\n",
        "\n",
        "After solving the PDE, we obtain the solution at each grid point and time step. We organize this solution data into a matrix $Y$ with the following structure:\n",
        "\n",
        "$$Y =\n",
        "\\begin{bmatrix}\n",
        "y(x_1, y_1, t_1) & y(x_1, y_1, t_2) & \\cdots & y(x_1, y_1, t_m) \\\\\n",
        "y(x_2, y_1, t_1) & y(x_2, y_1, t_2) & \\cdots & y(x_2, y_1, t_m) \\\\\n",
        "\\vdots & \\vdots & \\ddots & \\vdots \\\\\n",
        "y(x_n, y_p, t_1) & y(x_n, y_p, t_2) & \\cdots & y(x_n, y_p, t_m)\n",
        "\\end{bmatrix}$$\n",
        "\n",
        "- Each row corresponds to a specific spatial location $(x_i, y_j)$\n",
        "- Each column corresponds to a time step $t_k$\n",
        "- The matrix has dimensions $(n \\cdot p) \\times m$ where:\n",
        "  - $n = 50$ (number of x grid points)\n",
        "  - $p = 50$ (number of y grid points)\n",
        "  - $m = 21$ (number of time steps, including initial condition)\n"
      ]
    },
    {
      "cell_type": "code",
      "execution_count": 4,
      "id": "b4e4fa79-b76a-4cc3-ab6f-04472ff0c569",
      "metadata": {
        "colab": {
          "base_uri": "https://localhost:8080/"
        },
        "id": "b4e4fa79-b76a-4cc3-ab6f-04472ff0c569",
        "outputId": "bdfe7bfa-3b8f-4885-c83a-e46c237335ff"
      },
      "outputs": [
        {
          "output_type": "stream",
          "name": "stdout",
          "text": [
            "Grid dimensions: 50x50\n",
            "Number of frames returned by solver: 21\n",
            "\n",
            "Y matrix shape: (2500, 22)\n",
            "\n",
            "Value at (x=10, y=10, t=0): 1.0\n",
            "Value at (x=25, y=25, t=11): 0.10348274294673412\n",
            "[[0.1        0.1        0.1        ... 0.64481541 0.17853983 0.10000994]\n",
            " [0.1        0.1        0.1        ... 0.64516202 0.20211766 0.10008263]\n",
            " [0.1        0.1        0.1        ... 0.64522344 0.21437734 0.10047498]\n",
            " ...\n",
            " [0.1        0.1        0.1        ... 0.42344887 0.10203262 0.1       ]\n",
            " [0.1        0.1        0.1        ... 0.43671546 0.10777547 0.10000002]\n",
            " [0.1        0.1        0.1        ... 0.44079976 0.11904474 0.10000029]]\n"
          ]
        }
      ],
      "source": [
        "from pde.AdvectionEquation import Advection2D, Adv2dModelConfig\n",
        "config = Adv2dModelConfig()\n",
        "adv_obj = Advection2D(config)\n",
        "# Generate initial condition\n",
        "init_cond = adv_obj.initial_condition()\n",
        "# Solve PDE\n",
        "results = adv_obj.step(init_cond)\n",
        "# Get actual dimensions\n",
        "n = adv_obj.nx  # number of x grid points\n",
        "p = adv_obj.ny  # number of y grid points\n",
        "actual_frames = len(results)  # actual number of frames returned\n",
        "print(f\"Grid dimensions: {n}x{p}\")\n",
        "print(f\"Number of frames returned by solver: {actual_frames}\")\n",
        "# Total time steps including initial condition\n",
        "m = actual_frames + 1\n",
        "# Create the Y matrix with shape (n*p, m)\n",
        "Y = np.zeros((n * p, m))\n",
        "# Fill in the initial condition (t=0)\n",
        "Y[:, 0] = init_cond.reshape(-1)\n",
        "# Fill in the remaining time steps\n",
        "for t in range(1, m):\n",
        "    # Get the solution at time step t-1 (frames are 0-indexed)\n",
        "    q_t = results[t-1].q[0]\n",
        "        # Flatten the 2D spatial grid into a column\n",
        "    Y[:, t] = q_t.reshape(-1)\n",
        "\n",
        "print(f\"\\nY matrix shape: {Y.shape}\")\n",
        "# Verify a few values from the Y matrix\n",
        "print(f\"\\nValue at (x=10, y=10, t=0): {Y[10 + 10*n, 0]}\")\n",
        "middle_t = m // 2\n",
        "print(f\"Value at (x=25, y=25, t={middle_t}): {Y[25 + 25*n, middle_t]}\")\n",
        "print(Y)"
      ]
    },
    {
      "cell_type": "markdown",
      "source": [
        "The covariance function  is defined in Equation (20) of the paper as:\n",
        "\n",
        "\n",
        "\n",
        "# Covariance Function and Discretization\n",
        "\n",
        "## Continuous Covariance Function R(x, ζ)\n",
        "\n",
        "The covariance function R(x, ζ) is defined in Equation (20) of the paper as:\n",
        "\n",
        "$$\\int_{\\Omega} R(x, \\zeta) \\phi_i(\\zeta) d\\zeta = \\lambda_i \\phi_i(x)$$\n",
        "\n",
        "Where:\n",
        "- R(x, ζ) = ⟨y(x, t)y(ζ, t)⟩ is the spatial two-point correlation function\n",
        "- Measures how strongly the values of y(x,t) and y(ζ,t) are correlated over time\n",
        "- φ_i(x) are the eigenfunctions of R(x, ζ), obtained from the Karhunen–Loève Decomposition (KLD)\n",
        "\n",
        "## Discretization of Covariance Matrix\n",
        "\n",
        "From Equation (24) of the paper, the temporal correlation is defined as:\n",
        "\n",
        "$$C_{tk} = \\frac{1}{l} \\int_{\\Omega} y(\\zeta, t) y(\\zeta, k) d\\zeta$$\n",
        "\n",
        "Where:\n",
        "- C_{tk} represents the temporal correlation between states at different time steps\n",
        "- The integral over Ω converts the continuous form into a discrete covariance matrix\n",
        "\n",
        "### Discrete Covariance Matrix Formulation\n",
        "\n",
        "The basic discrete form:\n",
        "\n",
        "$$R_{ij} = \\frac{1}{m} \\sum_{t=1}^{m} y(x_i, t) y(x_j, t)$$\n",
        "\n",
        "### Mean-Subtracted Covariance Matrix\n",
        "\n",
        "To center the data, use mean subtraction:\n",
        "\n",
        "$$R_{ij} = \\frac{1}{m} \\sum_{t=1}^{m} \\left( y(x_i, t) - \\bar{y}(x_i) \\right) \\left( y(x_j, t) - \\bar{y}(x_j) \\right)$$\n",
        "\n",
        "\n",
        "\n",
        "## Source\n",
        "Appendix A, Equations (20) and (24) in the referenced paper.\n"
      ],
      "metadata": {
        "id": "VwZUd_u2wlsF"
      },
      "id": "VwZUd_u2wlsF"
    },
    {
      "cell_type": "code",
      "source": [
        "from reward.reward import RewardCalculator\n",
        "# Reshape Y from (n*p, m) to (n, p, m) for RewardCalculator\n",
        "Y_3d = Y.reshape(n, p, m)\n",
        "# Create RewardCalculator instance\n",
        "reward_calc = RewardCalculator(Y_3d)\n",
        "# Compute covariance matrix\n",
        "cov_matrix = reward_calc.compute_covariance_matrix()\n",
        "print(f\"Covariance matrix shape: {cov_matrix.shape}\")\n",
        "print(f\"Expected shape: ({n*p}, {n*p})\")\n",
        "type(cov_matrix)\n"
      ],
      "metadata": {
        "colab": {
          "base_uri": "https://localhost:8080/"
        },
        "id": "fRijBi2uycxH",
        "outputId": "aaf59b44-4cb6-4e5a-db7c-cb3d338bfdf6"
      },
      "id": "fRijBi2uycxH",
      "execution_count": 5,
      "outputs": [
        {
          "output_type": "stream",
          "name": "stdout",
          "text": [
            "Covariance matrix shape: (2500, 2500)\n",
            "Expected shape: (2500, 2500)\n"
          ]
        },
        {
          "output_type": "execute_result",
          "data": {
            "text/plain": [
              "numpy.ndarray"
            ]
          },
          "metadata": {},
          "execution_count": 5
        }
      ]
    },
    {
      "cell_type": "markdown",
      "source": [
        "## **3. Solve the Eigenvalue Problem**\n",
        "\n",
        "decompose the covariance matrix to find dominant spatial patterns using:\n",
        "\n",
        "$$\n",
        "R \\Phi = \\Lambda \\Phi\n",
        "$$\n",
        "\n",
        "where:\n",
        "- $\\Phi$ contains **eigenvectors** (KLD modes).\n",
        "- $\\Lambda$ is a **diagonal matrix of eigenvalues** (variance captured by each mode).\n",
        "- Eigenvalues are sorted in **descending order**, ensuring the most important modes are selected.\n",
        "\n",
        "**Reference:** Appendix A, Equation (20).\n",
        "\n",
        "---\n",
        "\n",
        "\n"
      ],
      "metadata": {
        "id": "HXM5grIlDevv"
      },
      "id": "HXM5grIlDevv"
    },
    {
      "cell_type": "code",
      "source": [
        "# 3. Eigenvalue Decomposition\n",
        "# Now that we've fixed the RewardCalculator class, we can use its methods directly\n",
        "\n",
        "# Solve eigenvalue problem\n",
        "eigenvalues, eigenvectors = reward_calc.solve_eigenvalue_problem()\n",
        "print(f\"Number of eigenvalues: {len(eigenvalues)}\")\n",
        "print(f\"Top 5 eigenvalues: {eigenvalues[:5]}\")\n",
        "\n"
      ],
      "metadata": {
        "colab": {
          "base_uri": "https://localhost:8080/"
        },
        "id": "oT4ZN3Ro4Bqt",
        "outputId": "502e9838-ca0d-4a87-9330-581ac422b070"
      },
      "id": "oT4ZN3Ro4Bqt",
      "execution_count": 7,
      "outputs": [
        {
          "output_type": "stream",
          "name": "stdout",
          "text": [
            "lol\n",
            "Number of eigenvalues: 2500\n",
            "Top 5 eigenvalues: [87.61859766 67.42263347 53.24866286 47.85788616 26.26264473]\n"
          ]
        }
      ]
    },
    {
      "cell_type": "markdown",
      "source": [
        "## **3. Select KLD Modes**\n",
        "\n",
        "The total **energy captured** by the first k modes is given by:\n",
        "\n",
        "$$\n",
        "E_k = \\frac{\\sum_{i=1}^{k} \\lambda_i}{\\sum_{j=1}^{n} \\lambda_j}\n",
        "$$\n",
        "\n",
        "We choose k such that:\n",
        "\n",
        "$$\n",
        "E_k \\geq 0.99\n",
        "$$\n",
        "\n",
        "This ensures we retain **99% of the system's variance**.\n",
        "\n",
        "**Reference:** Appendix A, Equation (25)"
      ],
      "metadata": {
        "id": "N87hg9TXDrEa"
      },
      "id": "N87hg9TXDrEa"
    },
    {
      "cell_type": "code",
      "source": [
        "# 4. Mode Selection\n",
        "# Calculate cumulative energy\n",
        "cumulative_energy = np.cumsum(eigenvalues) / np.sum(eigenvalues)\n",
        "threshold = 0.99\n",
        "num_modes = np.searchsorted(cumulative_energy, threshold) + 1\n",
        "print(f\"Number of modes required to capture {threshold*100}% of energy: {num_modes}\")\n",
        "# Select KLD modes\n",
        "selected_modes = reward_calc.select_KLD_modes(num_modes)\n",
        "print(f\"Selected modes shape: {selected_modes.shape}\")\n",
        "\n"
      ],
      "metadata": {
        "colab": {
          "base_uri": "https://localhost:8080/"
        },
        "id": "53iwXuGEDrf_",
        "outputId": "c3313b2f-4ccd-4488-8d83-5a0b1ef0e4f5"
      },
      "id": "53iwXuGEDrf_",
      "execution_count": 8,
      "outputs": [
        {
          "output_type": "stream",
          "name": "stdout",
          "text": [
            "Number of modes required to capture 99.0% of energy: 13\n",
            "Selected modes shape: (2500, 13)\n"
          ]
        }
      ]
    },
    {
      "cell_type": "markdown",
      "source": [
        "\n",
        "## **4. Compute the Reward Function**\n",
        "\n",
        "The **reward function** is based on the **information gain** from sensor placement.\n",
        "\n",
        "1. **Extract the sensor locations** from the selected KLD modes:\n",
        "\n",
        "$$\n",
        "P_m = \\text{selected\\_modes}[ \\text{sensor\\_indices}, :]\n",
        "$$\n",
        "\n",
        "2. **Compute the reduced observability matrix**:\n",
        "\n",
        "$$\n",
        "T_m = P_m^T P_m\n",
        "$$\n",
        "\n",
        "3. **Define the reward as the determinant**:\n",
        "\n",
        "$$\n",
        "\\text{Reward} = \\log \\det(T_m)\n",
        "$$\n",
        "\n",
        "Equation(12)"
      ],
      "metadata": {
        "id": "yZq43PRwD9Ul"
      },
      "id": "yZq43PRwD9Ul"
    },
    {
      "cell_type": "code",
      "source": [
        "\n",
        "# 5. Reward Calculation\n",
        "# Calculate reward for a sample set of sensor positions\n",
        "example_sensors = [(25, 25), (10, 40), (30, 15)]\n",
        "flat_indices = [i + j * n for i, j in example_sensors]\n",
        "reward = reward_calc.compute_reward_function(flat_indices)\n",
        "print(f\"Reward for example sensor configuration: {reward}\")\n",
        "\n",
        "\n"
      ],
      "metadata": {
        "colab": {
          "base_uri": "https://localhost:8080/"
        },
        "id": "RWF12KCpD9oL",
        "outputId": "0d6b4583-00fe-42f3-978a-3d3e4f79323a"
      },
      "id": "RWF12KCpD9oL",
      "execution_count": 10,
      "outputs": [
        {
          "output_type": "stream",
          "name": "stdout",
          "text": [
            "Reward for example sensor configuration: 5.589776985776396e-08\n"
          ]
        }
      ]
    },
    {
      "cell_type": "code",
      "source": [
        "\"\"\"\"\n",
        "# 6. Find Optimal Single Sensor Location\n",
        "print(\"\\nFinding optimal single sensor location...\")\n",
        "best_reward = -float('inf')\n",
        "best_location = None\n",
        "\n",
        "# Sample grid points to reduce computation (every 5th point)\n",
        "step = 5\n",
        "grid_samples = [(i, j) for i in range(0, n, step) for j in range(0, p, step)]\n",
        "print(f\"Testing {len(grid_samples)} locations...\")\n",
        "\n",
        "for i, j in grid_samples:\n",
        "    flat_idx = i + j * n\n",
        "    current_reward = reward_calc.compute_reward_function([flat_idx])\n",
        "\n",
        "    if current_reward > best_reward:\n",
        "        best_reward = current_reward\n",
        "        best_location = (i, j)\n",
        "\n",
        "print(f\"Best single sensor location: {best_location}\")\n",
        "print(f\"Reward value: {best_reward}\")\"\"\""
      ],
      "metadata": {
        "id": "yvTmTEY2Fj_S"
      },
      "id": "yvTmTEY2Fj_S",
      "execution_count": null,
      "outputs": []
    }
  ],
  "metadata": {
    "kernelspec": {
      "display_name": "Python 3 (ipykernel)",
      "language": "python",
      "name": "python3"
    },
    "language_info": {
      "codemirror_mode": {
        "name": "ipython",
        "version": 3
      },
      "file_extension": ".py",
      "mimetype": "text/x-python",
      "name": "python",
      "nbconvert_exporter": "python",
      "pygments_lexer": "ipython3",
      "version": "3.11.5"
    },
    "colab": {
      "provenance": []
    }
  },
  "nbformat": 4,
  "nbformat_minor": 5
}